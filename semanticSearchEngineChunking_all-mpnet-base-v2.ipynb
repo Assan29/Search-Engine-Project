{
 "cells": [
  {
   "cell_type": "markdown",
   "metadata": {},
   "source": [
    "# $$ Semantic \\ Search \\ Engine $$"
   ]
  },
  {
   "cell_type": "markdown",
   "metadata": {},
   "source": [
    "## Importing Libraries and Modules"
   ]
  },
  {
   "cell_type": "code",
   "execution_count": 1,
   "metadata": {},
   "outputs": [],
   "source": [
    "import pandas as pd\n",
    "from tqdm import tqdm\n",
    "from nltk.tokenize import word_tokenize\n",
    "from chromadb import PersistentClient\n",
    "from chromadb.utils import embedding_functions\n",
    "from sklearn.metrics.pairwise import cosine_similarity\n",
    "from sentence_transformers import SentenceTransformer"
   ]
  },
  {
   "cell_type": "markdown",
   "metadata": {},
   "source": [
    "## Loading English Subtitles Dataset from CSV File"
   ]
  },
  {
   "cell_type": "code",
   "execution_count": 3,
   "metadata": {
    "execution": {
     "iopub.execute_input": "2024-04-19T18:20:59.390699Z",
     "iopub.status.busy": "2024-04-19T18:20:59.389565Z",
     "iopub.status.idle": "2024-04-19T18:21:06.992476Z",
     "shell.execute_reply": "2024-04-19T18:21:06.991670Z",
     "shell.execute_reply.started": "2024-04-19T18:20:59.390646Z"
    }
   },
   "outputs": [],
   "source": [
    "PATH = r\"/kaggle/input/eng-subtitle/clean_eng_subtitles_csv.csv\"\n",
    "data = pd.read_csv(PATH) "
   ]
  },
  {
   "cell_type": "code",
   "execution_count": 4,
   "metadata": {},
   "outputs": [],
   "source": [
    "data = data.drop('Unnamed: 0',axis=1)\n",
    "data['file_content'] = data['file_content'].str.lower()\n",
    "data['name'] = data['name'].str.lower()\n",
    "data['name'] = data['name'].str.replace('eng 1cd', '').str.strip()\n",
    "ids = data['num'].astype(str).tolist()"
   ]
  },
  {
   "cell_type": "markdown",
   "metadata": {},
   "source": [
    "## Initializing ChromaDB Client and Setting Up Embedding Function"
   ]
  },
  {
   "cell_type": "code",
   "execution_count": 9,
   "metadata": {
    "execution": {
     "iopub.execute_input": "2024-04-19T18:21:14.168203Z",
     "iopub.status.busy": "2024-04-19T18:21:14.167255Z",
     "iopub.status.idle": "2024-04-19T18:21:20.903833Z",
     "shell.execute_reply": "2024-04-19T18:21:20.902909Z",
     "shell.execute_reply.started": "2024-04-19T18:21:14.168169Z"
    }
   },
   "outputs": [
    {
     "data": {
      "application/vnd.jupyter.widget-view+json": {
       "model_id": "b5c0263943294a41b3f136dd730caf08",
       "version_major": 2,
       "version_minor": 0
      },
      "text/plain": [
       "modules.json:   0%|          | 0.00/349 [00:00<?, ?B/s]"
      ]
     },
     "metadata": {},
     "output_type": "display_data"
    },
    {
     "data": {
      "application/vnd.jupyter.widget-view+json": {
       "model_id": "665e278ade3e45028daadec049666525",
       "version_major": 2,
       "version_minor": 0
      },
      "text/plain": [
       "config_sentence_transformers.json:   0%|          | 0.00/116 [00:00<?, ?B/s]"
      ]
     },
     "metadata": {},
     "output_type": "display_data"
    },
    {
     "data": {
      "application/vnd.jupyter.widget-view+json": {
       "model_id": "9a8bc333f2b245b5a67095fd1fa27e04",
       "version_major": 2,
       "version_minor": 0
      },
      "text/plain": [
       "README.md:   0%|          | 0.00/10.6k [00:00<?, ?B/s]"
      ]
     },
     "metadata": {},
     "output_type": "display_data"
    },
    {
     "data": {
      "application/vnd.jupyter.widget-view+json": {
       "model_id": "a56fa46bd934455fbd1188c7d3aee4b2",
       "version_major": 2,
       "version_minor": 0
      },
      "text/plain": [
       "sentence_bert_config.json:   0%|          | 0.00/53.0 [00:00<?, ?B/s]"
      ]
     },
     "metadata": {},
     "output_type": "display_data"
    },
    {
     "data": {
      "application/vnd.jupyter.widget-view+json": {
       "model_id": "02d71338dcf44403965839c428d176ca",
       "version_major": 2,
       "version_minor": 0
      },
      "text/plain": [
       "config.json:   0%|          | 0.00/571 [00:00<?, ?B/s]"
      ]
     },
     "metadata": {},
     "output_type": "display_data"
    },
    {
     "data": {
      "application/vnd.jupyter.widget-view+json": {
       "model_id": "137abcfd466f4d62b1ae414776ee1e31",
       "version_major": 2,
       "version_minor": 0
      },
      "text/plain": [
       "model.safetensors:   0%|          | 0.00/438M [00:00<?, ?B/s]"
      ]
     },
     "metadata": {},
     "output_type": "display_data"
    },
    {
     "data": {
      "application/vnd.jupyter.widget-view+json": {
       "model_id": "f9b629f8f01b439ab30ece2b8a4991ee",
       "version_major": 2,
       "version_minor": 0
      },
      "text/plain": [
       "tokenizer_config.json:   0%|          | 0.00/363 [00:00<?, ?B/s]"
      ]
     },
     "metadata": {},
     "output_type": "display_data"
    },
    {
     "data": {
      "application/vnd.jupyter.widget-view+json": {
       "model_id": "7c6415b6d39c40418bd51059f1c5272d",
       "version_major": 2,
       "version_minor": 0
      },
      "text/plain": [
       "vocab.txt:   0%|          | 0.00/232k [00:00<?, ?B/s]"
      ]
     },
     "metadata": {},
     "output_type": "display_data"
    },
    {
     "data": {
      "application/vnd.jupyter.widget-view+json": {
       "model_id": "74ca03ddc1f34440a0b204fc8b3e5535",
       "version_major": 2,
       "version_minor": 0
      },
      "text/plain": [
       "tokenizer.json:   0%|          | 0.00/466k [00:00<?, ?B/s]"
      ]
     },
     "metadata": {},
     "output_type": "display_data"
    },
    {
     "data": {
      "application/vnd.jupyter.widget-view+json": {
       "model_id": "8f37be36de994114a70eef0266d8bedc",
       "version_major": 2,
       "version_minor": 0
      },
      "text/plain": [
       "special_tokens_map.json:   0%|          | 0.00/239 [00:00<?, ?B/s]"
      ]
     },
     "metadata": {},
     "output_type": "display_data"
    },
    {
     "data": {
      "application/vnd.jupyter.widget-view+json": {
       "model_id": "ad2eeb1d4df34e3c9a26f7498a2469a9",
       "version_major": 2,
       "version_minor": 0
      },
      "text/plain": [
       "1_Pooling/config.json:   0%|          | 0.00/190 [00:00<?, ?B/s]"
      ]
     },
     "metadata": {},
     "output_type": "display_data"
    }
   ],
   "source": [
    "chroma_client = PersistentClient(path=\"my_chromadb\")\n",
    "\n",
    "# Specify the model name\n",
    "model_name = \"all-mpnet-base-v2\"\n",
    "\n",
    "# Create an embedding function for ChromaDB using the model name\n",
    "sentence_transformer_ef = embedding_functions.SentenceTransformerEmbeddingFunction(\n",
    "    model_name=model_name\n",
    ")"
   ]
  },
  {
   "cell_type": "markdown",
   "metadata": {},
   "source": [
    "## Creating ChromaDB Collection"
   ]
  },
  {
   "cell_type": "code",
   "execution_count": 10,
   "metadata": {
    "execution": {
     "iopub.execute_input": "2024-04-19T18:22:20.516774Z",
     "iopub.status.busy": "2024-04-19T18:22:20.515730Z",
     "iopub.status.idle": "2024-04-19T18:22:20.567157Z",
     "shell.execute_reply": "2024-04-19T18:22:20.566259Z",
     "shell.execute_reply.started": "2024-04-19T18:22:20.516726Z"
    }
   },
   "outputs": [
    {
     "name": "stdout",
     "output_type": "stream",
     "text": [
      "Collection 'subtitles_collection' does not exist. Creating a new collection.\n"
     ]
    }
   ],
   "source": [
    "# Create or get the collection, aka vector database\n",
    "# Specify the name for the collection and the embedding function to use\n",
    "collection_name = \"subtitles_collection\"\n",
    "try:\n",
    "    collection = chroma_client.get_collection(name=collection_name, embedding_function=sentence_transformer_ef)\n",
    "except ValueError:\n",
    "    print(f\"Collection '{collection_name}' does not exist. Creating a new collection.\")\n",
    "    collection = chroma_client.create_collection(name=collection_name, embedding_function=sentence_transformer_ef)"
   ]
  },
  {
   "cell_type": "markdown",
   "metadata": {},
   "source": [
    "## Chunking Documents"
   ]
  },
  {
   "cell_type": "code",
   "execution_count": 13,
   "metadata": {},
   "outputs": [],
   "source": [
    "token_size = 500 \n",
    "overlap_size = 50 \n",
    "documents = []\n",
    "metadatas = []\n",
    "\n",
    "\n",
    "def chunk_document(document, metadata, doc_id, token_size, overlap_size):\n",
    "    tokens = word_tokenize(document)\n",
    "    start = 0\n",
    "    \n",
    "    while start < len(tokens):\n",
    "        end = min(start + token_size, len(tokens))\n",
    "        chunk = ' '.join(tokens[start:end])\n",
    "        \n",
    "        documents.append(chunk)\n",
    "        metadatas.append(metadata)\n",
    "        \n",
    "        start = end - overlap_size\n",
    "\n",
    "for i, row in data.iterrows():\n",
    "    document = row['file_content']\n",
    "    metadata = {'num': row['num'], 'name': row['name']}\n",
    "    \n",
    "    chunk_document(document, metadata, str(row['num']), token_size, overlap_size)"
   ]
  },
  {
   "cell_type": "markdown",
   "metadata": {},
   "source": [
    "## Adding Documents, Metadata and ids to ChromaDB Collection"
   ]
  },
  {
   "cell_type": "code",
   "execution_count": 16,
   "metadata": {
    "execution": {
     "iopub.execute_input": "2024-04-19T18:33:53.996264Z",
     "iopub.status.busy": "2024-04-19T18:33:53.995882Z",
     "iopub.status.idle": "2024-04-19T22:34:06.824241Z",
     "shell.execute_reply": "2024-04-19T22:34:06.823307Z",
     "shell.execute_reply.started": "2024-04-19T18:33:53.996233Z"
    }
   },
   "outputs": [
    {
     "name": "stdout",
     "output_type": "stream",
     "text": [
      "Adding documents to the collection...\n"
     ]
    },
    {
     "name": "stderr",
     "output_type": "stream",
     "text": [
      "Progress:   0%|                                                     | 0/24749 [00:00<?, ?document/s]"
     ]
    },
    {
     "data": {
      "application/vnd.jupyter.widget-view+json": {
       "model_id": "b49d906db01b4b32877788780fa88e2e",
       "version_major": 2,
       "version_minor": 0
      },
      "text/plain": [
       "Batches:   0%|          | 0/774 [00:00<?, ?it/s]"
      ]
     },
     "metadata": {},
     "output_type": "display_data"
    },
    {
     "name": "stderr",
     "output_type": "stream",
     "text": [
      "Progress: 100%|███████████████████████████████████████| 24749/24749 [4:00:12<00:00,  1.72document/s]"
     ]
    },
    {
     "name": "stdout",
     "output_type": "stream",
     "text": [
      "Finished adding documents to the collection.\n"
     ]
    },
    {
     "name": "stderr",
     "output_type": "stream",
     "text": [
      "\n"
     ]
    }
   ],
   "source": [
    "print(\"Adding documents to the collection...\")\n",
    "with tqdm(total=len(documents), desc=\"Progress\", unit=\"document\", ncols=100) as pbar:\n",
    "    # Add documents, metadata, IDs, and embeddings in a single operation\n",
    "    collection.add(\n",
    "        documents=documents,\n",
    "        metadatas=metadatas,\n",
    "        ids=ids\n",
    "    )\n",
    "    pbar.update(len(documents))\n",
    "\n",
    "print(\"Finished adding documents to the collection.\")"
   ]
  },
  {
   "cell_type": "markdown",
   "metadata": {},
   "source": [
    "## Search Function to Query ChromaDB Collection and retrieving Results"
   ]
  },
  {
   "cell_type": "code",
   "execution_count": 24,
   "metadata": {
    "execution": {
     "iopub.execute_input": "2024-04-19T22:52:58.690645Z",
     "iopub.status.busy": "2024-04-19T22:52:58.689762Z",
     "iopub.status.idle": "2024-04-19T22:52:58.696971Z",
     "shell.execute_reply": "2024-04-19T22:52:58.695937Z",
     "shell.execute_reply.started": "2024-04-19T22:52:58.690609Z"
    }
   },
   "outputs": [],
   "source": [
    "def search(query, collection):\n",
    "    # Query the collection using the provided query text\n",
    "    results = collection.query(\n",
    "        query_texts=[query],\n",
    "        n_results=10,  # Specify the number of results you want to retrieve\n",
    "        include=['documents', 'distances', 'metadatas','ids']\n",
    "    )\n",
    "\n",
    "    # Iterate through the results and print the movie ID (num), similarity score, and movie name\n",
    "    for j in range(len(results['ids'][0])):\n",
    "        movie_id = results[\"ids\"][0][j]\n",
    "        distance = results['distances'][0][j]\n",
    "        metadata = results['metadatas'][0][j]\n",
    "        \n",
    "        print(f\"Movie ID (num): {movie_id}\")\n",
    "        print(f\"Similarity Score (distance): {distance:.3f}\")\n",
    "        print(f\"Movie Name: {metadata['name']}\")"
   ]
  },
  {
   "cell_type": "code",
   "execution_count": 25,
   "metadata": {
    "execution": {
     "iopub.execute_input": "2024-04-19T22:52:59.061283Z",
     "iopub.status.busy": "2024-04-19T22:52:59.060983Z",
     "iopub.status.idle": "2024-04-19T22:53:02.216418Z",
     "shell.execute_reply": "2024-04-19T22:53:02.215474Z",
     "shell.execute_reply.started": "2024-04-19T22:52:59.061257Z"
    }
   },
   "outputs": [
    {
     "name": "stdout",
     "output_type": "stream",
     "text": [
      "Please enter your search query:  comedy\n"
     ]
    },
    {
     "data": {
      "application/vnd.jupyter.widget-view+json": {
       "model_id": "f2de736febd7473da703ca2a3b09482f",
       "version_major": 2,
       "version_minor": 0
      },
      "text/plain": [
       "Batches:   0%|          | 0/1 [00:00<?, ?it/s]"
      ]
     },
     "metadata": {},
     "output_type": "display_data"
    },
    {
     "name": "stdout",
     "output_type": "stream",
     "text": [
      "Movie ID (num): 9253374\n",
      "Similarity Score (distance): 0.878\n",
      "Movie Name: pioneers of television s04 e01 standup to sitcom (2014)\n",
      "Movie ID (num): 9207796\n",
      "Similarity Score (distance): 0.946\n",
      "Movie Name: south park the 25th anniversary concert (2022)\n",
      "Movie ID (num): 9309885\n",
      "Similarity Score (distance): 1.020\n",
      "Movie Name: rifftrax the dark power (2015)\n",
      "Movie ID (num): 9207793\n",
      "Similarity Score (distance): 1.049\n",
      "Movie Name: south park the 25th anniversary concert (2022)\n",
      "Movie ID (num): 9416111\n",
      "Similarity Score (distance): 1.062\n",
      "Movie Name: alf tales s01 e09 the princess and the pea (1988)\n",
      "Movie ID (num): 9298557\n",
      "Similarity Score (distance): 1.062\n",
      "Movie Name: the comedy man (1964)\n",
      "Movie ID (num): 9219912\n",
      "Similarity Score (distance): 1.064\n",
      "Movie Name: beavis and butthead s01 e05 nice buttheadhome aide (2022)\n",
      "Movie ID (num): 9184389\n",
      "Similarity Score (distance): 1.065\n",
      "Movie Name: impractical jokers s09 e22 chris jericho (2022)\n",
      "Movie ID (num): 9209329\n",
      "Similarity Score (distance): 1.073\n",
      "Movie Name: the nanny s05 e03 the bobbi flekman story (1997)\n",
      "Movie ID (num): 9303627\n",
      "Similarity Score (distance): 1.088\n",
      "Movie Name: neal brennan blocks (2022)\n"
     ]
    }
   ],
   "source": [
    "query_text = input(\"Please enter your search query: \")\n",
    "search(query_text, collection)"
   ]
  },
  {
   "cell_type": "code",
   "execution_count": 26,
   "metadata": {},
   "outputs": [
    {
     "name": "stdout",
     "output_type": "stream",
     "text": [
      "Please enter your search query:  romantic\n",
      "\n",
      "Batches:   0%|          | 0/1 [00:00<?, ?it/s]\n",
      "\n",
      "Movie ID (num): 9255305\n",
      "Similarity Score (distance): 1.134\n",
      "Movie Name: a love song (2022)\n",
      "Movie ID (num): 9456842\n",
      "Similarity Score (distance): 1.136\n",
      "Movie Name: miraculous tales of ladybug cat noir s01 e10 dark cupid (2015)\n",
      "Movie ID (num): 9370218\n",
      "Similarity Score (distance): 1.160\n",
      "Movie Name: the mindy project s01 e02 hiring and firing (2012)\n",
      "Movie ID (num): 9327955\n",
      "Similarity Score (distance): 1.179\n",
      "Movie Name: coolie no 1 (2020)\n",
      "Movie ID (num): 9192986\n",
      "Similarity Score (distance): 1.180\n",
      "Movie Name: notater om kaerligheden (1989)\n",
      "Movie ID (num): 9472673\n",
      "Similarity Score (distance): 1.181\n",
      "Movie Name: agir romantik (2020)\n",
      "Movie ID (num): 9289398\n",
      "Similarity Score (distance): 1.198\n",
      "Movie Name: romantic killer s01 e01 why is there so much legalese in magic (2022)\n",
      "Movie ID (num): 9193134\n",
      "Similarity Score (distance): 1.207\n",
      "Movie Name: the best of everything (1959)\n",
      "Movie ID (num): 9477598\n",
      "Similarity Score (distance): 1.215\n",
      "Movie Name: up here s01 e06 armor (2023)\n",
      "Movie ID (num): 9289402\n",
      "Similarity Score (distance): 1.225\n",
      "Movie Name: romantic killer s01 e05 youre more troublesome in flesh and blood (2022)\n"
     ]
    }
   ],
   "source": [
    "query_text = input(\"Please enter your search query: \")\n",
    "search(query_text, collection)"
   ]
  },
  {
   "cell_type": "code",
   "execution_count": null,
   "metadata": {},
   "outputs": [],
   "source": []
  },
  {
   "cell_type": "code",
   "execution_count": null,
   "metadata": {},
   "outputs": [],
   "source": []
  }
 ],
 "metadata": {
  "kaggle": {
   "accelerator": "nvidiaTeslaT4",
   "dataSources": [
    {
     "datasetId": 4821647,
     "sourceId": 8152266,
     "sourceType": "datasetVersion"
    }
   ],
   "dockerImageVersionId": 30683,
   "isGpuEnabled": true,
   "isInternetEnabled": true,
   "language": "python",
   "sourceType": "notebook"
  },
  "kernelspec": {
   "display_name": "Python 3 (ipykernel)",
   "language": "python",
   "name": "python3"
  },
  "language_info": {
   "codemirror_mode": {
    "name": "ipython",
    "version": 3
   },
   "file_extension": ".py",
   "mimetype": "text/x-python",
   "name": "python",
   "nbconvert_exporter": "python",
   "pygments_lexer": "ipython3",
   "version": "3.10.9"
  }
 },
 "nbformat": 4,
 "nbformat_minor": 4
}
